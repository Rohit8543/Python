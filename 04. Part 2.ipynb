{
 "cells": [
  {
   "cell_type": "markdown",
   "metadata": {},
   "source": [
    "1.Use for, .split()<and if to create a statement that will print out words that start with (s)\n",
    "st=('Print only the words that start with s in this sentence')"
   ]
  },
  {
   "cell_type": "code",
   "execution_count": 3,
   "metadata": {},
   "outputs": [
    {
     "name": "stdout",
     "output_type": "stream",
     "text": [
      "start\n",
      "s\n",
      "sentence\n"
     ]
    }
   ],
   "source": [
    "st=('Print only the words that start with s in this sentence')\n",
    "for words in st.split():\n",
    "    if words[0]=='s':\n",
    "        print(words)"
   ]
  },
  {
   "cell_type": "code",
   "execution_count": 4,
   "metadata": {},
   "outputs": [
    {
     "name": "stdout",
     "output_type": "stream",
     "text": [
      "0\n",
      "2\n",
      "4\n",
      "6\n",
      "8\n"
     ]
    }
   ],
   "source": [
    "#2.Use range() to print  all the even number from 0 to 10\n",
    "\n",
    "for i in range(10):\n",
    "    if i%2==0:\n",
    "        print(i)"
   ]
  },
  {
   "cell_type": "markdown",
   "metadata": {},
   "source": [
    "#4.Write a program that print the integer from 0 to 100.But for multiple of three points \"Hi\",im 3\" Instead of the number,and for the multiple of five points\"Hi,I'm 5\"\n",
    ".for numbers which are multiple of both three and five prints\"Hi,I'm both 3 and 5\".\n"
   ]
  },
  {
   "cell_type": "code",
   "execution_count": 7,
   "metadata": {},
   "outputs": [
    {
     "name": "stdout",
     "output_type": "stream",
     "text": [
      "1\n",
      "2\n",
      "3 Hi I'm 3\n",
      "4\n",
      "5 Hi I'm 5\n",
      "6 Hi I'm 3\n",
      "7\n",
      "8\n",
      "9 Hi I'm 3\n",
      "10 Hi I'm 5\n",
      "11\n",
      "12 Hi I'm 3\n",
      "13\n",
      "14\n",
      "15 Hi I'm both 3 and 5\n",
      "16\n",
      "17\n",
      "18 Hi I'm 3\n",
      "19\n",
      "20 Hi I'm 5\n",
      "21 Hi I'm 3\n",
      "22\n",
      "23\n",
      "24 Hi I'm 3\n",
      "25 Hi I'm 5\n",
      "26\n",
      "27 Hi I'm 3\n",
      "28\n",
      "29\n",
      "30 Hi I'm both 3 and 5\n",
      "31\n",
      "32\n",
      "33 Hi I'm 3\n",
      "34\n",
      "35 Hi I'm 5\n",
      "36 Hi I'm 3\n",
      "37\n",
      "38\n",
      "39 Hi I'm 3\n",
      "40 Hi I'm 5\n",
      "41\n",
      "42 Hi I'm 3\n",
      "43\n",
      "44\n",
      "45 Hi I'm both 3 and 5\n",
      "46\n",
      "47\n",
      "48 Hi I'm 3\n",
      "49\n",
      "50 Hi I'm 5\n",
      "51 Hi I'm 3\n",
      "52\n",
      "53\n",
      "54 Hi I'm 3\n",
      "55 Hi I'm 5\n",
      "56\n",
      "57 Hi I'm 3\n",
      "58\n",
      "59\n",
      "60 Hi I'm both 3 and 5\n",
      "61\n",
      "62\n",
      "63 Hi I'm 3\n",
      "64\n",
      "65 Hi I'm 5\n",
      "66 Hi I'm 3\n",
      "67\n",
      "68\n",
      "69 Hi I'm 3\n",
      "70 Hi I'm 5\n",
      "71\n",
      "72 Hi I'm 3\n",
      "73\n",
      "74\n",
      "75 Hi I'm both 3 and 5\n",
      "76\n",
      "77\n",
      "78 Hi I'm 3\n",
      "79\n",
      "80 Hi I'm 5\n",
      "81 Hi I'm 3\n",
      "82\n",
      "83\n",
      "84 Hi I'm 3\n",
      "85 Hi I'm 5\n",
      "86\n",
      "87 Hi I'm 3\n",
      "88\n",
      "89\n",
      "90 Hi I'm both 3 and 5\n",
      "91\n",
      "92\n",
      "93 Hi I'm 3\n",
      "94\n",
      "95 Hi I'm 5\n",
      "96 Hi I'm 3\n",
      "97\n",
      "98\n",
      "99 Hi I'm 3\n"
     ]
    }
   ],
   "source": [
    "for i in range(1,100):\n",
    "    if i%5==0 and i%3==0:\n",
    "        print(i,\"Hi I'm both\",3,\"and\",5)\n",
    "    elif i%3==0:\n",
    "        print(i,\"Hi I'm\",3)\n",
    "    elif i%5==0:\n",
    "        print(i,\"Hi I'm\",5)\n",
    "    else:\n",
    "        print(i)"
   ]
  },
  {
   "cell_type": "markdown",
   "metadata": {},
   "source": [
    "5.Write a program that takes a string as input and converts all lowercase to uppercase and vice versa.For example,if the input is \"Hello,Class\",the output should be \"heLLo,cLASS\"\n"
   ]
  },
  {
   "cell_type": "code",
   "execution_count": 8,
   "metadata": {},
   "outputs": [
    {
     "name": "stdout",
     "output_type": "stream",
     "text": [
      "Enter a word : rohiT\n",
      "ROHIt"
     ]
    }
   ],
   "source": [
    "a=input(\"Enter a word : \")\n",
    "for i in a:\n",
    "    if i==i.lower():\n",
    "        print(i.upper(), end='')\n",
    "    elif i==i.upper():\n",
    "        print(i.lower(), end='') "
   ]
  },
  {
   "cell_type": "code",
   "execution_count": 9,
   "metadata": {},
   "outputs": [
    {
     "name": "stdout",
     "output_type": "stream",
     "text": [
      "Enter a word and number:eudhe\n",
      "length of eudhe is  5\n"
     ]
    }
   ],
   "source": [
    "a=input(\"Enter a word and number:\")\n",
    "for i in a.split():\n",
    "    if i!=0:\n",
    "        print(f\"length of {i} is \", len(i))\n",
    "\n"
   ]
  },
  {
   "cell_type": "code",
   "execution_count": 10,
   "metadata": {},
   "outputs": [
    {
     "name": "stdout",
     "output_type": "stream",
     "text": [
      "Enter the number: 12\n",
      "prime number\n"
     ]
    }
   ],
   "source": [
    "#Write a program to check whether the number is prime or not\n",
    "a=int(input(\"Enter the number: \"))\n",
    "if a%a==0 and a%2!=1 and a%3!=1 and a%5!=1: \n",
    "     print(\"prime number\")\n",
    "else:\n",
    "    print(\"not a prime number\")"
   ]
  },
  {
   "cell_type": "code",
   "execution_count": 11,
   "metadata": {},
   "outputs": [
    {
     "name": "stdout",
     "output_type": "stream",
     "text": [
      "Enter the number: 11\n",
      " prime number\n"
     ]
    }
   ],
   "source": [
    "a=int(input(\"Enter the number: \"))\n",
    "for i in range(2,a):\n",
    "    if a%i==0 and a%2==0 and a%3==0 and a%5!=0:\n",
    "         print(\" not prime number\")\n",
    "   \n",
    "    else:\n",
    "         print(\" prime number\")\n",
    "    break"
   ]
  },
  {
   "cell_type": "code",
   "execution_count": 12,
   "metadata": {},
   "outputs": [
    {
     "name": "stdout",
     "output_type": "stream",
     "text": [
      "Enter a number: 22\n",
      "22 is not a prime number\n"
     ]
    }
   ],
   "source": [
    "#Write a program to check whether the number is prime or not\n",
    "n = int(input(\"Enter a number: \"))\n",
    "if n<=1:\n",
    "    print(n,\"is not a prime number\")\n",
    "else:\n",
    "    for i in  range (2, int(n**0.5)+1):\n",
    "        if n%i==0:\n",
    "            print(n,\"is not a prime number\")\n",
    "            break\n",
    "    else:\n",
    "            print(n,\"is a prime number\")"
   ]
  },
  {
   "cell_type": "code",
   "execution_count": 15,
   "metadata": {},
   "outputs": [
    {
     "name": "stdout",
     "output_type": "stream",
     "text": [
      "*****\n",
      "*   *\n",
      "**** \n",
      "*   *\n",
      "*   *\n"
     ]
    }
   ],
   "source": [
    "Rows=5\n",
    "columns=5\n",
    "for i in range(rows):\n",
    "    for j in range(columns):\n",
    "            if j==0 or (j==columns-1 and (i!=0 and i!=rows//2)) or (i==0 or i==rows//2 and j<columns-1):\n",
    "                                                            print(\"*\",end=\"\")\n",
    "            else:\n",
    "                                                            print(\" \",end=\"\")\n",
    "    print()                                                       \n",
    "    "
   ]
  },
  {
   "cell_type": "code",
   "execution_count": 16,
   "metadata": {},
   "outputs": [
    {
     "name": "stdout",
     "output_type": "stream",
     "text": [
      "*****\n",
      "*    \n",
      "*   *\n",
      "*    \n",
      "*   *\n"
     ]
    }
   ],
   "source": [
    "Rows=5\n",
    "columns=5\n",
    "for i in range(rows):\n",
    "    for j in range(columns):\n",
    "            if j==0 or (j==columns-1 and (i!=--3 and i!=rows//3)) or (i==0 or i==rows//2 and j<columns-1) and (j==columns-1 or (i!=--7 and i!=rows//2)):\n",
    "                                                            print(\"*\",end=\"\")\n",
    "            \n",
    "            else:\n",
    "                                                            print(\" \",end=\"\")\n",
    "    print()   "
   ]
  },
  {
   "cell_type": "code",
   "execution_count": null,
   "metadata": {},
   "outputs": [],
   "source": [
    "# Accept 10 number from the user to display their average\n",
    "a=int(input(\"Enter the number: \"))\n",
    "b=int(input(\"Enter the number: \"))\n",
    "c=int(input(\"Enter the number: \"))\n",
    "d=int(input(\"Enter the number: \"))\n",
    "e=int(input(\"Enter the number: \"))\n",
    "f=int(input(\"Enter the number: \"))\n",
    "g=int(input(\"Enter the number: \"))\n",
    "h=int(input(\"Enter the number: \"))\n",
    "i=int(input(\"Enter the number: \"))\n",
    "j=int(input(\"Enter the number: \"))\n",
    "m=(a+b+c+d+e+f+g+h+i+j)/10\n",
    "print(m)"
   ]
  },
  {
   "cell_type": "code",
   "execution_count": 273,
   "metadata": {},
   "outputs": [
    {
     "name": "stdout",
     "output_type": "stream",
     "text": [
      "121\n",
      "143\n",
      "165\n",
      "187\n",
      "209\n",
      "231\n",
      "253\n",
      "275\n",
      "297\n",
      "319\n",
      "341\n",
      "363\n",
      "385\n",
      "407\n",
      "429\n",
      "451\n",
      "473\n",
      "495\n"
     ]
    }
   ],
   "source": [
    "#program divisible by 11 not by 2\n",
    "for i in range(100,500):\n",
    "     if i%11==0 and not i%2==0:\n",
    "            print(i)\n"
   ]
  },
  {
   "cell_type": "code",
   "execution_count": 276,
   "metadata": {},
   "outputs": [
    {
     "name": "stdout",
     "output_type": "stream",
     "text": [
      "1\n",
      "5\n",
      "7\n",
      "11\n",
      "13\n",
      "17\n",
      "19\n"
     ]
    }
   ],
   "source": [
    "#print no. 1-20 Except multiple of 2 or 3\n",
    "for i in range(1,20):\n",
    "     if i%2!=0 and i%3!=0:\n",
    "            print(i)"
   ]
  },
  {
   "cell_type": "code",
   "execution_count": null,
   "metadata": {},
   "outputs": [],
   "source": []
  }
 ],
 "metadata": {
  "kernelspec": {
   "display_name": "Python 3",
   "language": "python",
   "name": "python3"
  },
  "language_info": {
   "codemirror_mode": {
    "name": "ipython",
    "version": 3
   },
   "file_extension": ".py",
   "mimetype": "text/x-python",
   "name": "python",
   "nbconvert_exporter": "python",
   "pygments_lexer": "ipython3",
   "version": "3.7.3"
  }
 },
 "nbformat": 4,
 "nbformat_minor": 5
}
